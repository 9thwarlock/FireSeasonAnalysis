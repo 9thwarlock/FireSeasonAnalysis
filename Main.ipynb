{
 "cells": [
  {
   "cell_type": "markdown",
   "id": "750764f0",
   "metadata": {},
   "source": [
    "# An Analysis & Five Year Overview of California Fire Season"
   ]
  },
  {
   "cell_type": "markdown",
   "id": "d599eed2",
   "metadata": {},
   "source": [
    "### By Akhil Kammela"
   ]
  },
  {
   "cell_type": "markdown",
   "id": "831351c9",
   "metadata": {},
   "source": [
    "![alt text](wildfire.png \"Title\")\n"
   ]
  },
  {
   "cell_type": "markdown",
   "id": "ede96c92",
   "metadata": {},
   "source": [
    "*The fierce wildfire expanded early Sunday, burning several thousand acres.\n",
    "Photograph: David McNew/AFP/Getty Images* (Guardian)"
   ]
  },
  {
   "cell_type": "markdown",
   "id": "ee96d00b",
   "metadata": {},
   "source": [
    "## Introduction: "
   ]
  },
  {
   "cell_type": "markdown",
   "id": "c9badeb8",
   "metadata": {},
   "source": [
    " Although the state is known for its earthquakes, another natural disaster that constantly plagues California are wildfires. According to incident statistics from CAL FIRE, in 2022 alone there were 554,342 emergency responses, 7,490 wildfires, and roughly 362,455 acres burned. Every year wildfires continue to cause billions of dollars in property damage and displace entire communities. "
   ]
  },
  {
   "cell_type": "markdown",
   "id": "f1c57302",
   "metadata": {},
   "source": [
    "## What factors contribute to wildfires?"
   ]
  },
  {
   "cell_type": "markdown",
   "id": "57228941",
   "metadata": {},
   "source": [
    "*There are three major factors that contribute to wildfires in California:*"
   ]
  },
  {
   "cell_type": "markdown",
   "id": "3530cfcc",
   "metadata": {},
   "source": [
    "**Humans:** According to the Congressional Research Service, 85-95% of wildfires are a byproduct of human negligence, varying from cigarettes, misuse of equipment, campfires, and more. (Note this statistic applies generally to wildfires in America)."
   ]
  },
  {
   "cell_type": "markdown",
   "id": "bdb774e4",
   "metadata": {},
   "source": [
    "**Wind:** The combination of arid weather along with winds can facilitate the ignition and spread of wildfires. Santa Ana winds in Southern California as well as the Diablo winds in the San Francisco Bay Area region come from the mountains towards the coast, reaching speeds of 40 mph, which can cause immense destruction when paired with fires."
   ]
  },
  {
   "cell_type": "markdown",
   "id": "05dcf5bd",
   "metadata": {},
   "source": [
    "**Drought:** Given that wildfires excel in dry and hot conditions, droughts are extremely dangerous as they leave California’s environments with minimal moisture, allowing the landscape to be prone to catching on fire."
   ]
  },
  {
   "cell_type": "markdown",
   "id": "bac467a6",
   "metadata": {},
   "source": [
    "## Definitions"
   ]
  },
  {
   "cell_type": "markdown",
   "id": "ba253470",
   "metadata": {},
   "source": [
    "**Complex Fire**: When there are two or more wildfires burning close together in the same area."
   ]
  },
  {
   "cell_type": "markdown",
   "id": "61069dce",
   "metadata": {},
   "source": [
    "**Santa Ana Winds**: Winds that  occur when air from a region of high pressure over the dry, desert region of the southwestern U.S. flows westward towards low pressure located off the California coast."
   ]
  },
  {
   "cell_type": "markdown",
   "id": "b8a19f6a",
   "metadata": {},
   "source": [
    "**Diablo Winds**: Diablo winds are offshore wind events that flow northeasterly over Northern California's Coast Ranges. Named after the Diablo Range."
   ]
  },
  {
   "cell_type": "markdown",
   "id": "095467a7",
   "metadata": {},
   "source": [
    "**Firestorm:** a large fire which attains such intensity that it creates and sustains its own wind system."
   ]
  },
  {
   "cell_type": "markdown",
   "id": "e976fa7c",
   "metadata": {},
   "source": [
    "## Timeline & Statstics from 2017-2021"
   ]
  },
  {
   "cell_type": "markdown",
   "id": "8e26bb93",
   "metadata": {},
   "source": [
    "### [2017 Wildfire Map & Stats](./2017.html)\n",
    "### [2018 Wildfire Map & Stats](./2018.html)\n",
    "### [2019 Wildfire Map & Stats](./2019.html)\n",
    "### [2020 Wildfire Map & Stats](./2020.html)\n",
    "### [2021 Wildfire Map & Stats](./2021.html)"
   ]
  },
  {
   "cell_type": "markdown",
   "id": "80ad5324",
   "metadata": {},
   "source": [
    "(Data provided from https://incidents.fire.ca.gov/imapdata/mapdataall.csv)"
   ]
  },
  {
   "cell_type": "markdown",
   "id": "ff15aebe",
   "metadata": {},
   "source": [
    "<br/><br/>"
   ]
  },
  {
   "cell_type": "markdown",
   "id": "139c8844",
   "metadata": {},
   "source": [
    "![alt text](houseburning.png \"Title\")"
   ]
  },
  {
   "cell_type": "markdown",
   "id": "f029aa31",
   "metadata": {},
   "source": [
    "*A house near Darrah is lost to the flames.\n",
    "Photograph: Carlos Barría/Reuters* (Guardian)"
   ]
  },
  {
   "cell_type": "markdown",
   "id": "41557b75",
   "metadata": {},
   "source": [
    "## The Displacement of Californians"
   ]
  },
  {
   "cell_type": "markdown",
   "id": "12ab42e8",
   "metadata": {},
   "source": [
    "*“It’s gone,” he said. “It’s not like our house burned. The entire world burned.”* "
   ]
  },
  {
   "cell_type": "markdown",
   "id": "f6b51901",
   "metadata": {},
   "source": [
    " Every year Californians find themselves having to relocate elsewhere in the state and even the country as wildfires decimate homes and towns. As detailed in a Reuters article discussing the state’s fire problem, scientists from the American Geophysical Union have found that the number of acres burned by wildfire in the state has increased fivefold since 1970. The increase in acres burned is attributed to climate change as hotter weather dries the land causing vegetation to become easily ignitable and hot winds to spread flames."
   ]
  },
  {
   "cell_type": "markdown",
   "id": "fdf30255",
   "metadata": {},
   "source": [
    "**Camp Fire and Paradise**"
   ]
  },
  {
   "cell_type": "markdown",
   "id": "2d6b29fc",
   "metadata": {},
   "source": [
    "Camp Fire, which took place during the 2018 fire season, was one of the most destructive wildfires in the state’s history. What started as a flame from a broken electric transmission quickly developed into a firestorm, leading to the destruction of more than 18,000 structures. Both the towns of Concow and Paradise lost roughly 97% of their structures, rendering them almost completely destroyed."
   ]
  },
  {
   "cell_type": "markdown",
   "id": "2ea65c85",
   "metadata": {},
   "source": [
    "With their town gone, roughly 56,000 people from Paradise, Concow, and other communities fled their homes and lodgings. Many of the Californians settled in nearby counties and some in other parts of the country. Researchers who followed a third of the population that were left homeless were able to trace people resettling all the way as far as Florida, and even up to the Canadian Border. Out of the 56,000, 35% of the people were displaced in the long term."
   ]
  },
  {
   "cell_type": "markdown",
   "id": "afe7558a",
   "metadata": {},
   "source": [
    "What makes it hard for the people of Paradise and other communities destroyed by the fire to relocate nearby is population growth and the increase in house prices. Shortly after the destruction caused by Camp Fire, home prices in the nearby city of Chico rose by 21%. Alongside this the homeless population of the city also rose by 16 percent as people weren't able to afford homes in the city. Low income families and retirees had settled in the towns destroyed by Camp Fire due to their affordability, however this same factor could not be found in places like Chico. Chico wasn't the local place unaffordable to those seeking to relocate as the neighboring Glenn and Tehama counties saw their average home price increase by 47% and 58% respectively."
   ]
  },
  {
   "cell_type": "markdown",
   "id": "9cfc86e8",
   "metadata": {},
   "source": [
    "Camp Fire serves as an example of the link between climate-change related disasters and housing instability. As California's weather becomes hotter due to climate change, the fire season become longer and more severe. This places small rural areas in the state under threat, but this can soon grow to larger and more metropolitan areas as researchers project that roughly 80 million homes in the West could be under threat by 2050."
   ]
  },
  {
   "cell_type": "markdown",
   "id": "2fcf68cd",
   "metadata": {},
   "source": [
    "<br/><br/>"
   ]
  },
  {
   "cell_type": "markdown",
   "id": "6dcb94e4",
   "metadata": {},
   "source": [
    "## How to Help"
   ]
  },
  {
   "cell_type": "markdown",
   "id": "d9463432",
   "metadata": {},
   "source": [
    "### [https://www.philanthropyca.org/](https://www.philanthropyca.org/)"
   ]
  },
  {
   "cell_type": "markdown",
   "id": "b23e6ce2",
   "metadata": {},
   "source": [
    "- For those looking to make monetary donations to people affected by wildfires, the California’s Office of Emergency Services (Cal OES) has partnered with Philanthropy California to maintain a vetted list of relief funds where you can safely donate cash. This list is updated on a regular basis and users can filter the list based on region and beneficiary."
   ]
  },
  {
   "cell_type": "markdown",
   "id": "7f16d8a1",
   "metadata": {},
   "source": [
    "### [The California Community Foundation Wildfire Recovery Fund](https://www.calfund.org/wildfirerecoveryfund/)"
   ]
  },
  {
   "cell_type": "markdown",
   "id": "6df4c056",
   "metadata": {},
   "source": [
    "- focuses on intermediate and long-term recovery needs that follow wildfires in California, with special efforts to serve the most disaster-vulnerable populations including the disabled, farmworkers and other migrant communities whose homes and employment are impacted by wildfires, Native American populations living on or proximate to impacted tribal lands, economically-disadvantaged populations without resources to respond to and recover from wildfire impacts,"
   ]
  },
  {
   "cell_type": "markdown",
   "id": "e9ad6b81",
   "metadata": {},
   "source": [
    "<br/><br/>"
   ]
  },
  {
   "cell_type": "markdown",
   "id": "7c4806c4",
   "metadata": {},
   "source": [
    "## Sources:"
   ]
  },
  {
   "cell_type": "markdown",
   "id": "b143ff78",
   "metadata": {},
   "source": [
    "Cal Fire. “2019 Fire Season Outlook | Welcome to CAL FIRE.” Ca.gov, 2019, www.fire.ca.gov/incidents/."
   ]
  },
  {
   "cell_type": "markdown",
   "id": "557004bf",
   "metadata": {},
   "source": [
    "Jia, Shenyue, et al. “Patterns of Population Displacement during Mega-Fires in California Detected Using Facebook Disaster Maps.” Environmental Research Letters, vol. 15, no. 7, 6 July 2020, p. 074029, https://doi.org/10.1088/1748-9326/ab8847. Accessed 17 July 2020.\n",
    "\n"
   ]
  },
  {
   "cell_type": "markdown",
   "id": "c808c319",
   "metadata": {},
   "source": [
    "“Refugees in Their Own Country as Wildfire Destroys California Towns.” Reuters, 2 Oct. 2020, www.reuters.com/article/us-usa-wildfires-displacement/refugees-in-their-own-country-as-wildfire-destroys-california-towns-idUSKBN26N1MW.\n",
    "\n",
    "Oct. 7, Updated:, and 2020 8:42 P.m. “California Fire Map: Tracking Wildfires Burning across the State.” The San Francisco Chronicle, www.sfchronicle.com/projects/california-fire-map/.\n",
    "\n",
    "wfca_teila. “California Fire Season: In-Depth Guide.” WFCA, 6 July 2022, wfca.com/articles/california-fire-season-in-depth-guide/.\n",
    "\n",
    "“California Wildfires – in Pictures.” The Guardian, 25 July 2022, www.theguardian.com/environment/gallery/2022/jul/25/california-wildfires-in-pictures.\n"
   ]
  },
  {
   "cell_type": "markdown",
   "id": "9bd6e11a",
   "metadata": {},
   "source": [
    "“California’s “Climate Migrants” and the Difficulty of Finding a New Home.” PBS NewsHour, 24 Aug. 2022, www.pbs.org/newshour/nation/as-fires-rip-through-california-and-the-west-some-find-it-hard-to-stay-in-their-communities.\n",
    "\n",
    "Wildfire Disaster Relief Services in California: How to Help Those Impacted by 2021 Fires | Cal OES News. news.caloes.ca.gov/wildfire-disaster-relief-services-in-california-how-to-help-those-impacted-by-2021-fires/. Accessed 4 May 2023.\n"
   ]
  }
 ],
 "metadata": {
  "kernelspec": {
   "display_name": "Python 3 (ipykernel)",
   "language": "python",
   "name": "python3"
  },
  "language_info": {
   "codemirror_mode": {
    "name": "ipython",
    "version": 3
   },
   "file_extension": ".py",
   "mimetype": "text/x-python",
   "name": "python",
   "nbconvert_exporter": "python",
   "pygments_lexer": "ipython3",
   "version": "3.8.15"
  }
 },
 "nbformat": 4,
 "nbformat_minor": 5
}
